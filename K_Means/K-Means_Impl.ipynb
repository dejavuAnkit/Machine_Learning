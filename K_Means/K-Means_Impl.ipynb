{
 "cells": [
  {
   "cell_type": "code",
   "execution_count": 93,
   "id": "012ddff7-eed4-41bd-90cb-c3a7897f173e",
   "metadata": {},
   "outputs": [],
   "source": [
    "import random\n",
    "import numpy as np\n",
    "class KMeans:\n",
    "    def __init__(self,n_cluster=2, max_iter=100):\n",
    "        self.n_cluster=n_cluster\n",
    "        self.max_iter=max_iter\n",
    "        self.centriods=None\n",
    "        \n",
    "    def fit_predict(self,X):\n",
    "        random_centriods = random.sample(range(0,X.shape[0]),self.n_cluster)\n",
    "        self.centriods = X[random_centriods]\n",
    "        for i in range(self.max_iter):\n",
    "            # Assign cluster for each point in Dataset\n",
    "            cluster_group = self.assign_cluster(X)\n",
    "          \n",
    "            old_centriods = self.centriods\n",
    "            self.centriods = self.move_centriod(X, cluster_group)\n",
    "            if(old_centriods == self.centriods).all():\n",
    "                break;\n",
    "        return cluster_group\n",
    "            \n",
    "\n",
    "    def assign_cluster(self, X):\n",
    "        cluster_group=[]\n",
    "        distances=[]\n",
    "        for row in X:\n",
    "            for centriod in self.centriods:\n",
    "                distances.append(np.sqrt(np.dot(row - centriod, row - centriod)))\n",
    "            min_distance = min(distances)\n",
    "            index = distances.index(min_distance)\n",
    "            distances.clear()\n",
    "            cluster_group.append(index)\n",
    "        return np.array(cluster_group)\n",
    "\n",
    "    def move_centriod(self, X, cluster_group):\n",
    "        new_centriods=[]\n",
    "        cluster_type= np.unique(cluster_group)\n",
    "        for type in cluster_type:\n",
    "            new_centriods.append(X[cluster_group==type].mean(axis=0))\n",
    "        return np.array(new_centriods)\n",
    "        "
   ]
  },
  {
   "cell_type": "code",
   "execution_count": 94,
   "id": "e05aa7ec-003e-45c2-bf33-69c5dcd4ffc1",
   "metadata": {},
   "outputs": [],
   "source": [
    "# running the code over here\n",
    "import pandas as pd\n",
    "df = pd.read_csv(\"student_clustering.csv\")\n",
    "X=df.iloc[:,:].values\n",
    "km = KMeans(n_cluster=4,max_iter=500)\n",
    "y_means = km.fit_predict(X)"
   ]
  },
  {
   "cell_type": "code",
   "execution_count": 90,
   "id": "972bf62b-a945-4dd0-83cc-9ce33d9d90cb",
   "metadata": {},
   "outputs": [
    {
     "data": {
      "text/plain": [
       "array([0, 1, 2, 2, 1, 1, 2, 3, 1, 2, 0, 1, 2, 0, 1, 2, 1, 2, 1, 1, 2, 0,\n",
       "       2, 0, 0, 2, 0, 3, 2, 1, 3, 1, 3, 1, 2, 2, 3, 1, 0, 1, 0, 2, 2, 0,\n",
       "       3, 3, 2, 1, 3, 1, 0, 0, 3, 2, 3, 1, 1, 3, 1, 3, 1, 2, 2, 3, 0, 3,\n",
       "       2, 0, 1, 2, 1, 3, 2, 0, 1, 3, 1, 3, 0, 2, 2, 3, 1, 0, 3, 0, 3, 1,\n",
       "       3, 1, 3, 3, 2, 0, 2, 2, 3, 2, 0, 3, 1, 0, 0, 3, 0, 0, 2, 0, 3, 3,\n",
       "       2, 3, 1, 1, 2, 3, 2, 1, 3, 0, 0, 1, 2, 3, 2, 0, 2, 1, 0, 2, 2, 1,\n",
       "       0, 0, 1, 3, 1, 0, 2, 2, 2, 0, 1, 0, 0, 3, 0, 3, 1, 0, 3, 0, 3, 3,\n",
       "       0, 2, 1, 3, 1, 2, 0, 3, 1, 2, 3, 0, 1, 0, 0, 3, 3, 1, 3, 0, 0, 2,\n",
       "       3, 1, 0, 3, 3, 1, 1, 1, 2, 0, 2, 2, 3, 1, 2, 2, 0, 0, 2, 0, 3, 1,\n",
       "       1, 3])"
      ]
     },
     "execution_count": 90,
     "metadata": {},
     "output_type": "execute_result"
    }
   ],
   "source": [
    "y_means"
   ]
  },
  {
   "cell_type": "code",
   "execution_count": null,
   "id": "2f5c1ac5-fe44-418b-bfa4-31ef6d0596f0",
   "metadata": {},
   "outputs": [],
   "source": []
  },
  {
   "cell_type": "code",
   "execution_count": null,
   "id": "e9da8035-a9fe-41b8-96d5-a417920b13ae",
   "metadata": {},
   "outputs": [],
   "source": []
  },
  {
   "cell_type": "code",
   "execution_count": 92,
   "id": "19fb1cbf-7176-432e-8309-1423f74e994a",
   "metadata": {},
   "outputs": [
    {
     "data": {
      "text/plain": [
       "<matplotlib.collections.PathCollection at 0x156347590>"
      ]
     },
     "execution_count": 92,
     "metadata": {},
     "output_type": "execute_result"
    },
    {
     "data": {
      "image/png": "[encoded data removed]",
      "text/plain": [
       "<Figure size 640x480 with 1 Axes>"
      ]
     },
     "metadata": {},
     "output_type": "display_data"
    }
   ],
   "source": [
    "import matplotlib.pyplot as plt\n",
    "plt.scatter(X[y_means==0,0],X[y_means==0,1],color=\"orange\")\n",
    "plt.scatter(X[y_means==1,0],X[y_means==1,1],color=\"green\")\n",
    "plt.scatter(X[y_means==2,0],X[y_means==2,1],color=\"yellow\")\n",
    "plt.scatter(X[y_means==3,0],X[y_means==3,1],color=\"red\")"
   ]
  },
  {
   "cell_type": "code",
   "execution_count": null,
   "id": "f7edb171-0f74-45a1-8ea4-1aa84028b8b5",
   "metadata": {},
   "outputs": [],
   "source": []
  }
 ],
 "metadata": {
  "kernelspec": {
   "display_name": "Python 3 (ipykernel)",
   "language": "python",
   "name": "python3"
  },
  "language_info": {
   "codemirror_mode": {
    "name": "ipython",
    "version": 3
   },
   "file_extension": ".py",
   "mimetype": "text/x-python",
   "name": "python",
   "nbconvert_exporter": "python",
   "pygments_lexer": "ipython3",
   "version": "3.12.7"
  }
 },
 "nbformat": 4,
 "nbformat_minor": 5
}
